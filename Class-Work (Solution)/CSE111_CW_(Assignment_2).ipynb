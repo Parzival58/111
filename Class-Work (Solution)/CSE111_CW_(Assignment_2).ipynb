{
  "nbformat": 4,
  "nbformat_minor": 0,
  "metadata": {
    "colab": {
      "provenance": []
    },
    "kernelspec": {
      "name": "python3",
      "display_name": "Python 3"
    },
    "language_info": {
      "name": "python"
    }
  },
  "cells": [
    {
      "cell_type": "code",
      "source": [
        "#Task-1\n",
        "def AmiKenoMota(height,weight):\n",
        "    bmi=weight/(height/100)**2\n",
        "    print(\"Score is {}.\".format(round(bmi,1)),end=\" \")\n",
        "    if bmi<18.5:\n",
        "        return \"You are Underweight\"\n",
        "    if 18.5<=bmi<=24.9:\n",
        "        return \"You are Normal\"\n",
        "    if 25<=bmi<=30:\n",
        "        return \"You are Overweight\"\n",
        "    else:\n",
        "        return \"You are Obese\"\n",
        "print(AmiKenoMota(175,96))"
      ],
      "metadata": {
        "colab": {
          "base_uri": "https://localhost:8080/"
        },
        "id": "0h5KzOM2h2NE",
        "outputId": "cdea751b-15c7-4f97-cf0d-5578772e32a9"
      },
      "execution_count": 20,
      "outputs": [
        {
          "output_type": "stream",
          "name": "stdout",
          "text": [
            "Score is 31.3. You are Obese\n"
          ]
        }
      ]
    },
    {
      "cell_type": "code",
      "source": [
        "#Task-2\n",
        "def FoodPanda(name,location=\"Mohakhali\"):\n",
        "    price=0\n",
        "    if name==\"BBQ Chicken Cheese Burger\":\n",
        "        price=price+250+250*(8/100)\n",
        "    if name==\"Beef Burger\":\n",
        "        price=price+170+170*(8/100)\n",
        "    if name==\"Naga Drums\":\n",
        "        price=price+200+200*(8/100)\n",
        "    if location==\"Mohakhali\":\n",
        "        price+=40\n",
        "    else:\n",
        "        price+=60\n",
        "    return round(price,1)\n",
        "FoodPanda(\"Beef Burger\")"
      ],
      "metadata": {
        "colab": {
          "base_uri": "https://localhost:8080/"
        },
        "id": "A1Q68DkHh5dV",
        "outputId": "4e2af159-a8eb-4109-c68c-69aeda1b266c"
      },
      "execution_count": 21,
      "outputs": [
        {
          "output_type": "execute_result",
          "data": {
            "text/plain": [
              "223.6"
            ]
          },
          "metadata": {},
          "execution_count": 21
        }
      ]
    },
    {
      "cell_type": "code",
      "source": [
        "#Task-3\n",
        "def replace_domain(mail,new,old=\"kaaj.com\"):\n",
        "    add=\"\"\n",
        "    for i in range(len(mail)):\n",
        "        if mail[i]==\"@\" and mail[i+1:]==new:\n",
        "            return \"Unchanged: \"+mail\n",
        "        elif mail[i]==\"@\" and mail[i+1:]==old:\n",
        "            return \"Changed: \"+mail[:i+1]+new\n",
        "print(replace_domain(\"alice@kaaj.com\",\"sheba.xyz\",\"kaaj.com\"))"
      ],
      "metadata": {
        "colab": {
          "base_uri": "https://localhost:8080/"
        },
        "id": "PpHQUhqrh7Ty",
        "outputId": "93272073-cf6a-4e0c-e5d9-fb4f882ad06c"
      },
      "execution_count": 22,
      "outputs": [
        {
          "output_type": "stream",
          "name": "stdout",
          "text": [
            "Changed: alice@sheba.xyz\n"
          ]
        }
      ]
    },
    {
      "cell_type": "code",
      "source": [
        "#task-4\n",
        "def palindrome(word):\n",
        "    new=\"\"\n",
        "    for i in word:\n",
        "        if i!=\" \":\n",
        "            new+=i\n",
        "    add=new[-1:-(len(new)+1):-1]\n",
        "    if (add==new):\n",
        "        return \"Palindrome\"\n",
        "    else:\n",
        "        return \"Not a Palindrome\"\n",
        "print(palindrome(\"nurses run\"))"
      ],
      "metadata": {
        "colab": {
          "base_uri": "https://localhost:8080/"
        },
        "id": "5OkE6Vr3h9Ar",
        "outputId": "d0f95ac8-59c4-4af0-c051-ca4063328ca8"
      },
      "execution_count": 23,
      "outputs": [
        {
          "output_type": "stream",
          "name": "stdout",
          "text": [
            "Palindrome\n"
          ]
        }
      ]
    },
    {
      "cell_type": "code",
      "source": [
        "#Task-5\n",
        "def daycal(num):\n",
        "    years=num//365\n",
        "    remain=num%365\n",
        "    months=remain//30\n",
        "    days=remain%30\n",
        "    print(\"{} years, {} months and {} days\".format(years,months,days))\n",
        "daycal(4000)"
      ],
      "metadata": {
        "colab": {
          "base_uri": "https://localhost:8080/"
        },
        "id": "1pVk72wAh-tC",
        "outputId": "15a4ad91-2dc3-4d79-ca6e-34d3dc6f07c1"
      },
      "execution_count": 24,
      "outputs": [
        {
          "output_type": "stream",
          "name": "stdout",
          "text": [
            "10 years, 11 months and 20 days\n"
          ]
        }
      ]
    },
    {
      "cell_type": "code",
      "source": [
        "#Task-6\n",
        "def capital(word):\n",
        "    new=\"\"\n",
        "    for i in range(len(word)):\n",
        "        if i==0:\n",
        "            if \"a\"<=word[i]<=\"z\":\n",
        "                new+=chr(ord(word[i])-32)\n",
        "        elif i==\"i\":\n",
        "             new+=\"I\"\n",
        "        elif i>1 and word[i-2] in \".?!\":\n",
        "            new+=chr(ord(word[i])-32)\n",
        "        else:\n",
        "            new+=word[i]\n",
        "    print(new)\n",
        "capital(\"my favourite animal is a dog. a dog has sharp teeth so that it can eat flesh very easily. do you know my pet dog's name? i love my pet very much.\")"
      ],
      "metadata": {
        "colab": {
          "base_uri": "https://localhost:8080/"
        },
        "id": "N2x1eGvViAo_",
        "outputId": "11f9a791-03b3-4ce0-c4d7-def58f3476cf"
      },
      "execution_count": 25,
      "outputs": [
        {
          "output_type": "stream",
          "name": "stdout",
          "text": [
            "My favourite animal is a dog. A dog has sharp teeth so that it can eat flesh very easily. Do you know my pet dog's name? I love my pet very much.\n"
          ]
        }
      ]
    }
  ]
}