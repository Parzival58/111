{
  "nbformat": 4,
  "nbformat_minor": 0,
  "metadata": {
    "colab": {
      "provenance": []
    },
    "kernelspec": {
      "name": "python3",
      "display_name": "Python 3"
    },
    "language_info": {
      "name": "python"
    }
  },
  "cells": [
    {
      "cell_type": "code",
      "source": [
        "from IPython.display import clear_output\n",
        "\n",
        "# All the variables needed\n",
        "board = [[1, 2, 3], [4, 5, 6], [7, 8, 9]]  # The players will be placing their characters in this list\n",
        "# and the whole game be conducted based on the current status of this list.\n",
        "current_player_char = 'X'  # The character of the current player\n",
        "next_player_char = 'O'  # The character of the next player\n",
        "totalInputs = 9  # Since there are 9 slots in total in the whole board.\n",
        "winner = None\n",
        "def checkHorizontal():\n",
        "    global board\n",
        "    for i in board:\n",
        "        if i[0]==i[1]==i[2]:\n",
        "            return True\n",
        "    return False\n",
        "def checkVertical():\n",
        "    global board\n",
        "    for j in range(len(board)):\n",
        "        if board[0][j]==board[1][j]==board[2][j]:\n",
        "            return True\n",
        "    return False\n",
        "def checkDiagonal():\n",
        "    global board\n",
        "    if board[0][0]==board[1][1]==board[2][2]:\n",
        "        return True\n",
        "    if board[0][2]==board[1][1]==board[2][0]:\n",
        "        return True\n",
        "    return False\n",
        "def checkBoard():\n",
        "    if checkHorizontal() or checkVertical() or checkDiagonal()==True:\n",
        "        return True\n",
        "    else:\n",
        "        return False\n",
        "def placeCharacterOnBoard(position):\n",
        "    global board\n",
        "    global current_player_char\n",
        "    if not (position>=1 and position<=9):\n",
        "        print(\"Invalid position.\")\n",
        "        return 0\n",
        "    row = (position - 1) // 3\n",
        "    col = (position - 1) % 3\n",
        "    if isinstance(board[row][col], str):\n",
        "        print(\"Position already filled.\")\n",
        "        return 0\n",
        "    board[row][col] = current_player_char\n",
        "    return 1\n",
        "#This function prints the current status of the 'board' list in particular format.\n",
        "def printCurrentBoard():\n",
        "  print(\"-------------\")\n",
        "  for eachRow in board:\n",
        "    print(\"|\",end=\"\")\n",
        "    for eachCol in eachRow:\n",
        "      print(f\" {eachCol} \",end=\"|\")\n",
        "    print() #To move to the next row\n",
        "    print(\"-------------\")\n",
        "#This function will be simulating the whole game.\n",
        "def runGame():\n",
        "    global current_player_char\n",
        "    global next_player_char\n",
        "    global winner\n",
        "    welcome_msg = '''Welcome to the TIC-TAC-TOE game. The first player to place character on the board will be Player 1(Character X) and the other player will be Player 2(Character O).'''\n",
        "    print(welcome_msg)\n",
        "    inputCount= 0 #This variable is for counting the number of inputs and controlling the loop based on it.\n",
        "    while inputCount < totalInputs:\n",
        "        printCurrentBoard() #This function prints the current state of the board as a player needs to see it before making the next move.\n",
        "        position = int(input(f\"Player {(inputCount%2)+1},enter a position that does not contain any X or O:\")) #The user needs to enter a position that does contain any X or O.\n",
        "        validityofInput = placeCharacterOnBoard(position) #validityofInput will be 1 if the user inputs a valid \"position\"; otherwise it will be 0.\n",
        "        inputCount+= validityofInput # If the inputs a valid \"position\", the inputCount will increase by one; otherwise it will remain as it is.\n",
        "        if inputCount>=5: #There is no need to check the board before 5 valid inputs as there will be no winners before 5 valid inputs.\n",
        "            if checkBoard(): #If checkBoard() returned True then current player won the game.\n",
        "                winner = \"Player 1\" if current_player_char == 'X' else \"Player 2\"\n",
        "                clear_output() #This function clears the output panel.\n",
        "                break\n",
        "        if validityofInput: #Only if the player inputs a valid \"position\", the player characters will be swapped for the next move.\n",
        "            current_player_char,next_player_char = next_player_char,current_player_char #The players will place characters alternatively. So if X is the current player's character, in the next turn O will be the current player's character.\n",
        "        clear_output() #This function clears the output panel before printing the current board status for the next player.\n",
        "    printCurrentBoard()\n",
        "    #After the while loop if the value of  winner is still none, that means the game ended in a draw; otherwise we have a winner.\n",
        "    if winner != None:\n",
        "        print(f\"Well done, {winner}. You have won the game.\")\n",
        "    else:\n",
        "        print(f\"The game ended in a draw\")\n",
        "runGame()"
      ],
      "metadata": {
        "id": "Zcrn4Bldcd7n",
        "colab": {
          "base_uri": "https://localhost:8080/"
        },
        "outputId": "ef24b5f2-c323-446d-c471-3d2e96d63694"
      },
      "execution_count": null,
      "outputs": [
        {
          "output_type": "stream",
          "name": "stdout",
          "text": [
            "-------------\n",
            "| O | 2 | 3 |\n",
            "-------------\n",
            "| X | 5 | 6 |\n",
            "-------------\n",
            "| 7 | 8 | 9 |\n",
            "-------------\n"
          ]
        }
      ]
    }
  ]
}