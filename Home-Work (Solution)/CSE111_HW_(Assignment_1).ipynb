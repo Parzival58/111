{
  "nbformat": 4,
  "nbformat_minor": 0,
  "metadata": {
    "colab": {
      "provenance": []
    },
    "kernelspec": {
      "name": "python3",
      "display_name": "Python 3"
    },
    "language_info": {
      "name": "python"
    }
  },
  "cells": [
    {
      "cell_type": "code",
      "execution_count": null,
      "metadata": {
        "colab": {
          "base_uri": "https://localhost:8080/"
        },
        "id": "rZ3_6TytjitC",
        "outputId": "63a2b312-d2d9-41a6-b274-71a18a4a2a4b"
      },
      "outputs": [
        {
          "output_type": "stream",
          "name": "stdout",
          "text": [
            "banana\n"
          ]
        }
      ],
      "source": [
        "#task-1(String)\n",
        "given=\"BaNaNa\"\n",
        "upper=0\n",
        "lower=0\n",
        "for i in given:\n",
        "    if ord(i)>=65 and ord(i)<=90:\n",
        "        upper+=1\n",
        "    else:\n",
        "        lower+=1\n",
        "if lower>=upper:\n",
        "    given=given.lower()\n",
        "else:\n",
        "    given=given.upper()\n",
        "print(given)"
      ]
    },
    {
      "cell_type": "code",
      "source": [
        "#task-1(String)\n",
        "given=\"BaNaNa\"\n",
        "upper=0\n",
        "lower=0\n",
        "new=\"\"\n",
        "for i in given:\n",
        "    if (ord(i)>=65 and ord(i)<=90):\n",
        "        upper+=1\n",
        "    else:\n",
        "        lower+=1\n",
        "if upper<=lower:\n",
        "    for i in given:\n",
        "        if ord(i)>=65 and ord(i)<=90:\n",
        "            i=chr(ord(i)+32)\n",
        "            new+=i\n",
        "        else:\n",
        "            new+=i\n",
        "else:\n",
        "    for i in given:\n",
        "        if ord(i)>=97 and ord(i)<=122:\n",
        "            i=chr(ord(i)-32)\n",
        "            new+=i\n",
        "        else:\n",
        "            new+=i\n",
        "print(new)"
      ],
      "metadata": {
        "colab": {
          "base_uri": "https://localhost:8080/"
        },
        "id": "jpI_dQLH3LgH",
        "outputId": "0d965d39-b5c4-4517-e6cd-a9ae2b29dcb6"
      },
      "execution_count": null,
      "outputs": [
        {
          "output_type": "stream",
          "name": "stdout",
          "text": [
            "banana\n"
          ]
        }
      ]
    },
    {
      "cell_type": "code",
      "source": [
        "#task-2(String)\n",
        "given=\"Hello\"\n",
        "num=0\n",
        "digit=\"0123456789\"\n",
        "for i in given:\n",
        "    if i in digit:\n",
        "        num+=1\n",
        "if len(given)==num:\n",
        "    print(\"NUMBER\")\n",
        "elif num==0:\n",
        "    print(\"WORD\")\n",
        "else:\n",
        "    print(\"MIXED\")"
      ],
      "metadata": {
        "colab": {
          "base_uri": "https://localhost:8080/"
        },
        "id": "rYODk61-lZpq",
        "outputId": "8a67e0aa-1332-47fd-d09c-de366f2e4d3c"
      },
      "execution_count": null,
      "outputs": [
        {
          "output_type": "stream",
          "name": "stdout",
          "text": [
            "WORD\n"
          ]
        }
      ]
    },
    {
      "cell_type": "code",
      "source": [
        "#task-3(String)\n",
        "given=\"baNgladEsh\"\n",
        "first=0\n",
        "last=0\n",
        "for i in range(len(given)):\n",
        "    if ord(given[i])>=65 and ord(given[i])<=90:\n",
        "        first=i\n",
        "        break\n",
        "for j in range(0,-(len(given)+1),-1):\n",
        "    if ord(given[j])>=65 and ord(given[j])<=90:\n",
        "        last=j\n",
        "        break\n",
        "new=given[first+1:last]\n",
        "if new==\"\":\n",
        "    print(\"BLANK\")\n",
        "else:\n",
        "    print(new)"
      ],
      "metadata": {
        "colab": {
          "base_uri": "https://localhost:8080/"
        },
        "id": "oSpfO7OCm7YR",
        "outputId": "d743123a-6aab-4132-d90f-51799604b325"
      },
      "execution_count": null,
      "outputs": [
        {
          "output_type": "stream",
          "name": "stdout",
          "text": [
            "glad\n"
          ]
        }
      ]
    },
    {
      "cell_type": "code",
      "source": [
        "#task-4(String)\n",
        "first=\"harry\"\n",
        "last=\"hermione\"\n",
        "new=\"\"\n",
        "for i in first:\n",
        "    if i in last:\n",
        "        new+=i\n",
        "for j in last:\n",
        "    if j in first:\n",
        "        new+=j\n",
        "if new==\"\":\n",
        "    print(\"Nothing in common.\")\n",
        "else:\n",
        "    print(new)"
      ],
      "metadata": {
        "colab": {
          "base_uri": "https://localhost:8080/"
        },
        "id": "lnpmXjAwn_w8",
        "outputId": "3c745333-24cc-42ef-9392-a2663a378e46"
      },
      "execution_count": null,
      "outputs": [
        {
          "output_type": "stream",
          "name": "stdout",
          "text": [
            "hrrhr\n"
          ]
        }
      ]
    },
    {
      "cell_type": "code",
      "source": [
        "#task-5(String)\n",
        "given=\"ohmybracu@F2\"\n",
        "upper=0\n",
        "lower=0\n",
        "num=0\n",
        "special=0\n",
        "char=\"_$#@\"\n",
        "for i in given:\n",
        "    if ord(i)>=65 and ord(i)<=90:\n",
        "        upper+=1\n",
        "    if ord(i)>=97 and ord(i)<=122:\n",
        "        lower+=1\n",
        "    if ord(i)>=48 and ord(i)<=57:\n",
        "        num+=1\n",
        "    if i in char:\n",
        "        special+=1\n",
        "new=\"\"\n",
        "if upper==0:\n",
        "    new+=\"Uppercase character missing, \"\n",
        "if lower==0:\n",
        "    new+=\"Lowercase character missing, \"\n",
        "if num==0:\n",
        "    new+=\"Digit missing, \"\n",
        "if special==0:\n",
        "    new+=\"Special character missing, \"\n",
        "if upper and lower and num and special>=1:\n",
        "    print(\"OK\")\n",
        "else:\n",
        "    new=new[:-2]\n",
        "    print(new)"
      ],
      "metadata": {
        "colab": {
          "base_uri": "https://localhost:8080/"
        },
        "id": "tTrJza38oqe0",
        "outputId": "939db7a7-d8e7-4159-db74-342c21771c20"
      },
      "execution_count": null,
      "outputs": [
        {
          "output_type": "stream",
          "name": "stdout",
          "text": [
            "OK\n"
          ]
        }
      ]
    },
    {
      "cell_type": "code",
      "source": [
        "#Task-1(List)\n",
        "lst=[]\n",
        "while True:\n",
        "    user=input(\"Enter the number: \")\n",
        "    if user==\"STOP\":\n",
        "        break\n",
        "    else:\n",
        "        lst.append(int(user))\n",
        "new=[]\n",
        "for i in lst:\n",
        "    if i not in new:\n",
        "        new.append(i)\n",
        "count=0\n",
        "for j in new:\n",
        "    for k in lst:\n",
        "        if j==k:\n",
        "            count+=1\n",
        "    print(\"{} - {} times\".format(j,count))\n",
        "    count=0"
      ],
      "metadata": {
        "colab": {
          "base_uri": "https://localhost:8080/"
        },
        "id": "Rl5sns-drlKp",
        "outputId": "8396bf25-48b9-45cb-a3c2-e5c5ee63e823"
      },
      "execution_count": null,
      "outputs": [
        {
          "output_type": "stream",
          "name": "stdout",
          "text": [
            "Enter the number: 10\n",
            "Enter the number: 20\n",
            "Enter the number: 20\n",
            "Enter the number: 30\n",
            "Enter the number: 10\n",
            "Enter the number: 50\n",
            "Enter the number: 90\n",
            "Enter the number: STOP\n",
            "10 - 2 times\n",
            "20 - 2 times\n",
            "30 - 1 times\n",
            "50 - 1 times\n",
            "90 - 1 times\n"
          ]
        }
      ]
    },
    {
      "cell_type": "code",
      "source": [
        "#Task-2(List)\n",
        "num=int(input(\"Enter the value of N: \"))\n",
        "max=0\n",
        "for i in range(num):\n",
        "    sum=0\n",
        "    user=input(\"Enter the list elements: \")\n",
        "    user=user.split(\" \")\n",
        "    for j in user:\n",
        "        sum+=int(j)\n",
        "    if sum>max:\n",
        "        max=sum\n",
        "        add=user\n",
        "print(max)\n",
        "new=[]\n",
        "for k in add:\n",
        "    new.append(int(k))\n",
        "print(new)"
      ],
      "metadata": {
        "id": "LbCr-2lIvKBp",
        "colab": {
          "base_uri": "https://localhost:8080/"
        },
        "outputId": "9cebc0de-ddd1-431f-8eee-c2c73000653f"
      },
      "execution_count": null,
      "outputs": [
        {
          "output_type": "stream",
          "name": "stdout",
          "text": [
            "Enter the value of N: 4\n",
            "Enter the list elements: 1 2 3\n",
            "Enter the list elements: 4 5 6\n",
            "Enter the list elements: 10 11 12\n",
            "Enter the list elements: 7 8 9\n",
            "33\n",
            "[10, 11, 12]\n"
          ]
        }
      ]
    },
    {
      "cell_type": "code",
      "source": [
        "#Task-3(List)\n",
        "given_1=\"2 3 6\"\n",
        "given_2=\"3 4 5\"\n",
        "first=[]\n",
        "last=[]\n",
        "for i in range(0,len(given_1),2):\n",
        "    i=given_1[i]\n",
        "    first.append(int(i))\n",
        "for j in range(0,len(given_2),2):\n",
        "    j=given_2[j]\n",
        "    last.append(int(j))\n",
        "new=[]\n",
        "for k in first:\n",
        "    for l in last:\n",
        "        new.append(k*l)\n",
        "print(new)"
      ],
      "metadata": {
        "colab": {
          "base_uri": "https://localhost:8080/"
        },
        "id": "wqY7l_yNupl9",
        "outputId": "dfe80e88-5dcc-452f-b267-06fa36ae83f3"
      },
      "execution_count": null,
      "outputs": [
        {
          "output_type": "stream",
          "name": "stdout",
          "text": [
            "[6, 8, 10, 9, 12, 15, 18, 24, 30]\n"
          ]
        }
      ]
    },
    {
      "cell_type": "code",
      "source": [
        "#Task-4(List)\n",
        "lst=[]\n",
        "add=''\n",
        "while True:\n",
        "  user=input()\n",
        "  if user=='STOP':\n",
        "    break\n",
        "  else:\n",
        "    new=user.split(\" \")            # 2 1 4 6 10\n",
        "                                      # 1  3 2 4\n",
        "    for i in range(len(new)):\n",
        "      if i==len(new)-1:\n",
        "        break\n",
        "      else:\n",
        "        a=abs(int(new[i])-int(new[i+1]))\n",
        "        lst.append(a)\n",
        "\n",
        "      counter=0\n",
        "      for i in lst:\n",
        "        if i in range(1, len(new)):\n",
        "          counter+=1\n",
        "    if counter==len(new)-1:\n",
        "        add+='Ub Jumper\\n'\n",
        "    else:\n",
        "        add+='Not Ub Jumper\\n'\n",
        "    lst=[]\n",
        "print(add)\n",
        ""
      ],
      "metadata": {
        "id": "7S1REjtPvrBM",
        "colab": {
          "base_uri": "https://localhost:8080/"
        },
        "outputId": "64ffc70e-9427-4ebc-d465-7d39e3b499e7"
      },
      "execution_count": null,
      "outputs": [
        {
          "output_type": "stream",
          "name": "stdout",
          "text": [
            "1 4 2 3\n",
            "2 1 4 6 10\n",
            "1 4 2 -1 6\n",
            "STOP\n",
            "Ub Jumper\n",
            "Ub Jumper\n",
            "Not Ub Jumper\n",
            "\n"
          ]
        }
      ]
    },
    {
      "cell_type": "code",
      "source": [
        "#task-5(List)\n",
        "num=input(\"Enter the value of n and k: \")\n",
        "n,k=num.split(\" \")\n",
        "user=input(\"Enter the number of times: \")\n",
        "add=user.split(\" \")\n",
        "new=[]\n",
        "for i in add:\n",
        "    new.append(int(i))\n",
        "count=0\n",
        "for j in new:\n",
        "    if (j+int(k))<=5:\n",
        "        count+=1\n",
        "teams=count//3\n",
        "print(teams)"
      ],
      "metadata": {
        "colab": {
          "base_uri": "https://localhost:8080/"
        },
        "id": "57TRhNj4xj3K",
        "outputId": "47a487f0-8f18-48e9-b9e3-3d5d3a261554"
      },
      "execution_count": null,
      "outputs": [
        {
          "output_type": "stream",
          "name": "stdout",
          "text": [
            "Enter the value of n and k: 6 5\n",
            "Enter the number of times: 0 0 0 0 0 0\n",
            "2\n"
          ]
        }
      ]
    },
    {
      "cell_type": "code",
      "source": [
        "#Task-1(Dictionary & Tuple)\n",
        "dict1={'a': 100, 'b': 100, 'c': 200, 'd': 300}\n",
        "dict2={'a': 300, 'b': 200, 'd': 400, 'e': 200}\n",
        "new={}\n",
        "for i,j in dict1.items():\n",
        "    if i not in new.keys():\n",
        "        new[i]=j\n",
        "for k,l in dict2.items():\n",
        "    if k not in new.keys():\n",
        "        new[k]=l\n",
        "    else:\n",
        "        new[k]+=l\n",
        "print(new)\n",
        "add=[]\n",
        "for a in new.values():\n",
        "    if a not in add:\n",
        "        add.append(a)\n",
        "add.sort()\n",
        "add=tuple(add)\n",
        "print(add)"
      ],
      "metadata": {
        "colab": {
          "base_uri": "https://localhost:8080/"
        },
        "id": "zgLYQGPRzcSF",
        "outputId": "da0488b8-f707-44c0-ffc2-d234187afa0c"
      },
      "execution_count": null,
      "outputs": [
        {
          "output_type": "stream",
          "name": "stdout",
          "text": [
            "{'a': 400, 'b': 300, 'c': 200, 'd': 700, 'e': 200}\n",
            "(200, 300, 400, 700)\n"
          ]
        }
      ]
    },
    {
      "cell_type": "code",
      "source": [
        "#Task-2(Dictionary & Tuple)\n",
        "new={}\n",
        "while True:\n",
        "  user=input()\n",
        "  if user=='STOP':\n",
        "    break\n",
        "  else:\n",
        "    if int(user) not in new.keys():\n",
        "      new[int(user)]=1\n",
        "    else:\n",
        "      new[int(user)]+=1\n",
        "\n",
        "for i,j in new.items():\n",
        "  print(\"{} - {} times\".format(i,j))"
      ],
      "metadata": {
        "id": "PxxPRw_1zhfD",
        "colab": {
          "base_uri": "https://localhost:8080/"
        },
        "outputId": "07b617f7-c434-4efe-9820-8bb211daa115"
      },
      "execution_count": null,
      "outputs": [
        {
          "output_type": "stream",
          "name": "stdout",
          "text": [
            "10\n",
            "20\n",
            "20\n",
            "10\n",
            "30\n",
            "50\n",
            "90\n",
            "STOP\n",
            "10 - 2 times\n",
            "20 - 2 times\n",
            "30 - 1 times\n",
            "50 - 1 times\n",
            "90 - 1 times\n"
          ]
        }
      ]
    },
    {
      "cell_type": "code",
      "source": [
        "#Task-3(Dictionary & Tuple)\n",
        "user=input(\"Enter the dictionary: \")\n",
        "new={}\n",
        "lis1 = user.split(', ')\n",
        "for i in lis1:\n",
        "  lis2=i.split(' : ')\n",
        "  v , k = lis2\n",
        "  if k in new:\n",
        "    new[k].append(v)\n",
        "  else:\n",
        "    new[k] = [v]\n",
        "print(new)"
      ],
      "metadata": {
        "id": "IE7JuN3Zzhnd",
        "colab": {
          "base_uri": "https://localhost:8080/"
        },
        "outputId": "ecf113ca-bdb0-465d-f3bc-3d6d04384fca"
      },
      "execution_count": 1,
      "outputs": [
        {
          "output_type": "stream",
          "name": "stdout",
          "text": [
            "Enter the dictionary: key1 : value1, key2 : value2, key3 : value1\n",
            "{'value1': ['key1', 'key3'], 'value2': ['key2']}\n"
          ]
        }
      ]
    },
    {
      "cell_type": "code",
      "source": [
        "#Task-4(Dictionary & Tuple)\n",
        "user=input(\"Enter the message: \")\n",
        "new=\"\"\n",
        "for i in user:\n",
        "    if ord(i)>=97 and ord(i)<122:\n",
        "        i=chr(ord(i)-32)\n",
        "        new+=i\n",
        "    else:\n",
        "        new+=i\n",
        "dict1={1:\".,?!:\",2:\"ABC\",3:\"DEF\",4:\"GHI\",5:\"JKL\",6:\"MNO\",7:\"PQRS\",8:\"TUV\",9:\"WXYZ\",0:\" \",}\n",
        "index=0\n",
        "final=\"\"\n",
        "for j in new:\n",
        "    for key,value in dict1.items():\n",
        "        if j in value:\n",
        "            for k in range(len(value)):\n",
        "                if j==value[k]:\n",
        "                    index=1+k\n",
        "                    final+=str(key)*index\n",
        "                    break\n",
        "print(final)"
      ],
      "metadata": {
        "id": "SPZQgvDPzkkM",
        "colab": {
          "base_uri": "https://localhost:8080/"
        },
        "outputId": "da62f749-ba21-4e13-fb46-b6691ed3e53c"
      },
      "execution_count": null,
      "outputs": [
        {
          "output_type": "stream",
          "name": "stdout",
          "text": [
            "Enter the message: Hello, World!\n",
            "4433555555666110966677755531111\n"
          ]
        }
      ]
    }
  ]
}